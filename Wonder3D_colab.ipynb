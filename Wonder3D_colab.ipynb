{
  "cells": [
    {
      "cell_type": "markdown",
      "metadata": {
        "id": "view-in-github",
        "colab_type": "text"
      },
      "source": [
        "<a href=\"https://colab.research.google.com/github/Hammer-888/Wonder3D-hf/blob/main/Wonder3D_colab.ipynb\" target=\"_parent\"><img src=\"https://colab.research.google.com/assets/colab-badge.svg\" alt=\"Open In Colab\"/></a>"
      ]
    },
    {
      "cell_type": "code",
      "execution_count": null,
      "metadata": {
        "id": "VjYy0F2gZIPR",
        "outputId": "ad88c1b3-a2ea-4d34-9ee1-070ac532ed15",
        "colab": {
          "base_uri": "https://localhost:8080/"
        }
      },
      "outputs": [
        {
          "output_type": "stream",
          "name": "stdout",
          "text": [
            "/content\n",
            "fatal: destination path 'Wonder3D-hf' already exists and is not an empty directory.\n",
            "/content/Wonder3D-hf\n",
            "aria2 is already the newest version (1.36.0-1).\n",
            "0 upgraded, 0 newly installed, 0 to remove and 8 not upgraded.\n",
            "\n",
            "Download Results:\n",
            "gid   |stat|avg speed  |path/URI\n",
            "======+====+===========+=======================================================\n",
            "742ff1|\u001b[1;32mOK\u001b[0m  |       0B/s|/content/Wonder3D-hf/ckpts/random_states_0.pkl\n",
            "\n",
            "Status Legend:\n",
            "(OK):download completed.\n",
            "\n",
            "Download Results:\n",
            "gid   |stat|avg speed  |path/URI\n",
            "======+====+===========+=======================================================\n",
            "ebed3c|\u001b[1;32mOK\u001b[0m  |       0B/s|/content/Wonder3D-hf/ckpts/scaler.pt\n",
            "\n",
            "Status Legend:\n",
            "(OK):download completed.\n",
            "\n",
            "Download Results:\n",
            "gid   |stat|avg speed  |path/URI\n",
            "======+====+===========+=======================================================\n",
            "aa7aba|\u001b[1;32mOK\u001b[0m  |       0B/s|/content/Wonder3D-hf/ckpts/scheduler.bin\n",
            "\n",
            "Status Legend:\n",
            "(OK):download completed.\n",
            "\n",
            "Download Results:\n",
            "gid   |stat|avg speed  |path/URI\n",
            "======+====+===========+=======================================================\n",
            "f79c84|\u001b[1;32mOK\u001b[0m  |       0B/s|/content/Wonder3D-hf/ckpts/unet/diffusion_pytorch_model.bin\n",
            "\n",
            "Status Legend:\n",
            "(OK):download completed.\n",
            "\n",
            "Download Results:\n",
            "gid   |stat|avg speed  |path/URI\n",
            "======+====+===========+=======================================================\n",
            "0f03d9|\u001b[1;32mOK\u001b[0m  |       0B/s|/content/Wonder3D-hf/sam_pt/sam_vit_h_4b8939.pth\n",
            "\n",
            "Status Legend:\n",
            "(OK):download completed.\n",
            "[INFO] running model ...\n"
          ]
        }
      ],
      "source": [
        "%cd /content\n",
        "!git clone -b dev https://github.com/Hammer-888/Wonder3D-hf\n",
        "%cd /content/Wonder3D-hf\n",
        "\n",
        "!apt -y install -qq aria2\n",
        "!aria2c --console-log-level=error -c -x 16 -s 16 -k 1M https://huggingface.co/camenduru/Wonder3D/resolve/main/random_states_0.pkl -d /content/Wonder3D-hf/ckpts -o random_states_0.pkl\n",
        "!aria2c --console-log-level=error -c -x 16 -s 16 -k 1M https://huggingface.co/camenduru/Wonder3D/resolve/main/scaler.pt -d /content/Wonder3D-hf/ckpts -o scaler.pt\n",
        "!aria2c --console-log-level=error -c -x 16 -s 16 -k 1M https://huggingface.co/camenduru/Wonder3D/resolve/main/scheduler.bin -d /content/Wonder3D-hf/ckpts -o scheduler.bin\n",
        "!aria2c --console-log-level=error -c -x 16 -s 16 -k 1M https://huggingface.co/camenduru/Wonder3D/resolve/main/unet/diffusion_pytorch_model.bin -d /content/Wonder3D-hf/ckpts/unet -o diffusion_pytorch_model.bin\n",
        "!aria2c --console-log-level=error -c -x 16 -s 16 -k 1M https://huggingface.co/camenduru/segment_anything/resolve/main/sam_vit_h_4b8939.pth -d /content/Wonder3D-hf/sam_pt -o sam_vit_h_4b8939.pth\n",
        "\n",
        "!pip install -q fire diffusers==0.19.3 transformers bitsandbytes accelerate gradio rembg segment_anything streamlit\n",
        "!pip install -q einops omegaconf\n",
        "!pip install -q https://download.pytorch.org/whl/cu118/xformers-0.0.22.post4%2Bcu118-cp310-cp310-manylinux2014_x86_64.whl\n",
        "\n",
        "%run wonder3d_utils.py example_images/cat.png"
      ]
    }
  ],
  "metadata": {
    "accelerator": "GPU",
    "colab": {
      "gpuType": "T4",
      "provenance": [],
      "include_colab_link": true
    },
    "kernelspec": {
      "display_name": "Python 3",
      "name": "python3"
    },
    "language_info": {
      "name": "python"
    }
  },
  "nbformat": 4,
  "nbformat_minor": 0
}